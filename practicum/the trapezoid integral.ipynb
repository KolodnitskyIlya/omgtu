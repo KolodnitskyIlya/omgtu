{
 "cells": [
  {
   "cell_type": "code",
   "execution_count": 4,
   "metadata": {
    "dotnet_interactive": {
     "language": "csharp"
    },
    "polyglot_notebook": {
     "kernelName": "csharp"
    }
   },
   "outputs": [],
   "source": [
    "class TrapezoidalRule\n",
    "{\n",
    "    public static double Solve(Func<double, double> f, double a, double b, double dx)\n",
    "    {\n",
    "        \n",
    "        double eps = 1E-8;\n",
    "\n",
    "        if (!Double.IsNormal(a) || !Double.IsNormal(b) || !Double.IsNormal(dx)) {\n",
    "            throw new ArgumentException(\"нехорошее число a, b или dx\");\n",
    "        }\n",
    "\n",
    "        if (dx < eps) {\n",
    "            throw new ArgumentException(\"dx слишком маленький\");\n",
    "        }\n",
    "        \n",
    "        double solve = 0;\n",
    "        int n = Convert.ToInt32((b-a)/dx);\n",
    "        \n",
    "        for (int i = 1; i <=n - 1; i++)\n",
    "        {\n",
    "            solve +=f(a + dx*i);\n",
    "        }\n",
    "        solve += (f(a) + f(b))/ 2;\n",
    "        solve *= dx;\n",
    "        return solve;\n",
    "    }\n",
    "}"
   ]
  },
  {
   "cell_type": "code",
   "execution_count": 3,
   "metadata": {
    "dotnet_interactive": {
     "language": "csharp"
    },
    "polyglot_notebook": {
     "kernelName": "csharp"
    }
   },
   "outputs": [
    {
     "data": {
      "text/html": [
       "<div class=\"dni-plaintext\"><pre>-1.35</pre></div><style>\r\n",
       ".dni-code-hint {\r\n",
       "    font-style: italic;\r\n",
       "    overflow: hidden;\r\n",
       "    white-space: nowrap;\r\n",
       "}\r\n",
       ".dni-treeview {\r\n",
       "    white-space: nowrap;\r\n",
       "}\r\n",
       ".dni-treeview td {\r\n",
       "    vertical-align: top;\r\n",
       "    text-align: start;\r\n",
       "}\r\n",
       "details.dni-treeview {\r\n",
       "    padding-left: 1em;\r\n",
       "}\r\n",
       "table td {\r\n",
       "    text-align: start;\r\n",
       "}\r\n",
       "table tr { \r\n",
       "    vertical-align: top; \r\n",
       "    margin: 0em 0px;\r\n",
       "}\r\n",
       "table tr td pre \r\n",
       "{ \r\n",
       "    vertical-align: top !important; \r\n",
       "    margin: 0em 0px !important;\r\n",
       "} \r\n",
       "table th {\r\n",
       "    text-align: start;\r\n",
       "}\r\n",
       "</style>"
      ]
     },
     "metadata": {},
     "output_type": "display_data"
    }
   ],
   "source": [
    "Func<double, double> f = (double x) => -x*x + 9;\n",
    "\n",
    "var answ = TrapezoidalRule.Solve(f, 6, 3, 0.1);\n",
    "answ"
   ]
  }
 ],
 "metadata": {
  "kernelspec": {
   "display_name": ".NET (C#)",
   "language": "C#",
   "name": ".net-csharp"
  },
  "language_info": {
   "name": "polyglot-notebook"
  },
  "polyglot_notebook": {
   "kernelInfo": {
    "defaultKernelName": "csharp",
    "items": [
     {
      "aliases": [],
      "languageName": "csharp",
      "name": "csharp"
     }
    ]
   }
  }
 },
 "nbformat": 4,
 "nbformat_minor": 2
}
