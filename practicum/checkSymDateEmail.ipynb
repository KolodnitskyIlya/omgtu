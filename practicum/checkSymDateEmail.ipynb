{
 "cells": [
  {
   "cell_type": "code",
   "execution_count": 135,
   "metadata": {
    "dotnet_interactive": {
     "language": "csharp"
    },
    "polyglot_notebook": {
     "kernelName": "csharp"
    }
   },
   "outputs": [],
   "source": [
    "public void S(string s)\n",
    "{\n",
    "    var random = new Random();\n",
    "\n",
    "    for(int i = 0; i < 10E6; i ++)\n",
    "    {\n",
    "        var new_symb = Convert.ToString(((random.Next(0, 9))));\n",
    "        s = s.Substring(0, i%10) + new_symb + s.Substring(i%10+1);\n",
    "    }\n",
    "\n",
    "    Console.WriteLine(s);\n",
    "}"
   ]
  },
  {
   "cell_type": "code",
   "execution_count": 123,
   "metadata": {},
   "outputs": [
    {
     "name": "stdout",
     "output_type": "stream",
     "text": [
      "8400301601\n"
     ]
    }
   ],
   "source": [
    "S(\"afjgnrjgng\");"
   ]
  },
  {
   "cell_type": "code",
   "execution_count": 136,
   "metadata": {},
   "outputs": [],
   "source": [
    "public void Sb(string sb)\n",
    "{\n",
    "    StringBuilder Sb = new StringBuilder(sb);\n",
    "    var random = new Random();\n",
    "\n",
    "    for(int i = 0; i < 10E6; i ++)\n",
    "    {\n",
    "        var new_symb = (char)Convert.ToString(((random.Next(0, 9))))[0];\n",
    "        Sb[i % 10] = new_symb;\n",
    "    }\n",
    "    \n",
    "    Console.WriteLine(Convert.ToString(Sb));\n",
    "}"
   ]
  },
  {
   "cell_type": "code",
   "execution_count": 137,
   "metadata": {},
   "outputs": [
    {
     "name": "stdout",
     "output_type": "stream",
     "text": [
      "7665145452\n"
     ]
    }
   ],
   "source": [
    "Sb(\"afjgnrjgng\");"
   ]
  },
  {
   "cell_type": "code",
   "execution_count": 138,
   "metadata": {},
   "outputs": [
    {
     "data": {
      "text/html": [
       "<div class=\"dni-plaintext\"><pre>False</pre></div><style>\r\n",
       ".dni-code-hint {\r\n",
       "    font-style: italic;\r\n",
       "    overflow: hidden;\r\n",
       "    white-space: nowrap;\r\n",
       "}\r\n",
       ".dni-treeview {\r\n",
       "    white-space: nowrap;\r\n",
       "}\r\n",
       ".dni-treeview td {\r\n",
       "    vertical-align: top;\r\n",
       "    text-align: start;\r\n",
       "}\r\n",
       "details.dni-treeview {\r\n",
       "    padding-left: 1em;\r\n",
       "}\r\n",
       "table td {\r\n",
       "    text-align: start;\r\n",
       "}\r\n",
       "table tr { \r\n",
       "    vertical-align: top; \r\n",
       "    margin: 0em 0px;\r\n",
       "}\r\n",
       "table tr td pre \r\n",
       "{ \r\n",
       "    vertical-align: top !important; \r\n",
       "    margin: 0em 0px !important;\r\n",
       "} \r\n",
       "table th {\r\n",
       "    text-align: start;\r\n",
       "}\r\n",
       "</style>"
      ]
     },
     "metadata": {},
     "output_type": "display_data"
    }
   ],
   "source": [
    "var data = \"24:00\";\n",
    "\n",
    "var regex = @\"^([0-9]|[0-1][0-9]|2[0-3]):([0-5][0-9])$\";\n",
    "Regex.IsMatch(data, regex)"
   ]
  },
  {
   "cell_type": "code",
   "execution_count": 139,
   "metadata": {},
   "outputs": [
    {
     "data": {
      "text/html": [
       "<div class=\"dni-plaintext\"><pre>True</pre></div><style>\r\n",
       ".dni-code-hint {\r\n",
       "    font-style: italic;\r\n",
       "    overflow: hidden;\r\n",
       "    white-space: nowrap;\r\n",
       "}\r\n",
       ".dni-treeview {\r\n",
       "    white-space: nowrap;\r\n",
       "}\r\n",
       ".dni-treeview td {\r\n",
       "    vertical-align: top;\r\n",
       "    text-align: start;\r\n",
       "}\r\n",
       "details.dni-treeview {\r\n",
       "    padding-left: 1em;\r\n",
       "}\r\n",
       "table td {\r\n",
       "    text-align: start;\r\n",
       "}\r\n",
       "table tr { \r\n",
       "    vertical-align: top; \r\n",
       "    margin: 0em 0px;\r\n",
       "}\r\n",
       "table tr td pre \r\n",
       "{ \r\n",
       "    vertical-align: top !important; \r\n",
       "    margin: 0em 0px !important;\r\n",
       "} \r\n",
       "table th {\r\n",
       "    text-align: start;\r\n",
       "}\r\n",
       "</style>"
      ]
     },
     "metadata": {},
     "output_type": "display_data"
    }
   ],
   "source": [
    "/*\n",
    "    \n",
    "    \"tony@example.com\",\n",
    "    \"tony.stark@example.net\",\n",
    "    \"tony.stark@example.gov\",\n",
    "    \"TONY@EXAMPLE.GOV\",\n",
    "\n",
    "    \n",
    "    \"tony@example\",\n",
    "    \"tony@example.co.uk.\",\n",
    "    \"tony@example.\",\n",
    "    \"asdfbird.213dsf\"\n",
    "*/\n",
    "\n",
    "var email = \"tony@example.co.uk\";\n",
    "\n",
    "string regex = @\"^[\\w\\-]*@([\\w\\-]+\\.)+[\\w\\-]+$\";\n",
    "\n",
    "Regex.IsMatch(email, regex)\n"
   ]
  }
 ],
 "metadata": {
  "kernelspec": {
   "display_name": ".NET (C#)",
   "language": "C#",
   "name": ".net-csharp"
  },
  "language_info": {
   "name": "polyglot-notebook"
  },
  "polyglot_notebook": {
   "kernelInfo": {
    "defaultKernelName": "csharp",
    "items": [
     {
      "aliases": [],
      "languageName": "csharp",
      "name": "csharp"
     }
    ]
   }
  }
 },
 "nbformat": 4,
 "nbformat_minor": 2
}
