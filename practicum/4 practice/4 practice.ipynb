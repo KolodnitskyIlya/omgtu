{
 "cells": [
  {
   "cell_type": "code",
   "execution_count": 2,
   "metadata": {
    "dotnet_interactive": {
     "language": "csharp"
    },
    "polyglot_notebook": {
     "kernelName": "csharp"
    }
   },
   "outputs": [
    {
     "name": "stdout",
     "output_type": "stream",
     "text": [
      "EmbeddedAttribute\n",
      "\tEquals Boolean\n",
      "\t\tobj Object\n",
      "\tGetHashCode Int32\n",
      "\tget_TypeId Object\n",
      "\tMatch Boolean\n",
      "\t\tobj Object\n",
      "\tIsDefaultAttribute Boolean\n",
      "\tGetType Type\n",
      "\tToString String\n",
      "NullableAttribute\n",
      "\tEquals Boolean\n",
      "\t\tobj Object\n",
      "\tGetHashCode Int32\n",
      "\tget_TypeId Object\n",
      "\tMatch Boolean\n",
      "\t\tobj Object\n",
      "\tIsDefaultAttribute Boolean\n",
      "\tGetType Type\n",
      "\tToString String\n",
      "NullableContextAttribute\n",
      "\tEquals Boolean\n",
      "\t\tobj Object\n",
      "\tGetHashCode Int32\n",
      "\tget_TypeId Object\n",
      "\tMatch Boolean\n",
      "\t\tobj Object\n",
      "\tIsDefaultAttribute Boolean\n",
      "\tGetType Type\n",
      "\tToString String\n",
      "ICommand\n",
      "\tExecute Void\n",
      "IoC\n",
      "\tResolve T\n",
      "\t\tdependency String\n",
      "\t\targs Object[]\n",
      "\tGetType Type\n",
      "\tToString String\n",
      "\tEquals Boolean\n",
      "\t\tobj Object\n",
      "\tGetHashCode Int32\n",
      "SetupCommand\n",
      "\tExecute Void\n",
      "\tGetType Type\n",
      "\tToString String\n",
      "\tEquals Boolean\n",
      "\t\tobj Object\n",
      "\tGetHashCode Int32\n",
      "<>c\n",
      "\tGetType Type\n",
      "\tToString String\n",
      "\tEquals Boolean\n",
      "\t\tobj Object\n",
      "\tGetHashCode Int32\n"
     ]
    }
   ],
   "source": [
    "using System.Reflection;\n",
    "Assembly assembly = Assembly.LoadFrom(\"core.dll\");\n",
    "Type[] types = assembly.GetTypes();\n",
    "\n",
    "foreach(Type t in types)\n",
    "{\n",
    "    Console.WriteLine(t.Name);\n",
    "    foreach(MethodInfo m in t.GetMethods())\n",
    "    {\n",
    "        Console.WriteLine($\"\\t{m.Name} {m.ReturnType.Name}\");\n",
    "        foreach(ParameterInfo p in m.GetParameters())\n",
    "        {\n",
    "            Console.WriteLine($\"\\t\\t{p.Name} {p.ParameterType.Name}\");\n",
    "        }\n",
    "    }\n",
    "}"
   ]
  }
 ],
 "metadata": {
  "kernelspec": {
   "display_name": ".NET (C#)",
   "language": "C#",
   "name": ".net-csharp"
  },
  "language_info": {
   "name": "polyglot-notebook"
  },
  "polyglot_notebook": {
   "kernelInfo": {
    "defaultKernelName": "csharp",
    "items": [
     {
      "aliases": [],
      "languageName": "csharp",
      "name": "csharp"
     }
    ]
   }
  }
 },
 "nbformat": 4,
 "nbformat_minor": 2
}
